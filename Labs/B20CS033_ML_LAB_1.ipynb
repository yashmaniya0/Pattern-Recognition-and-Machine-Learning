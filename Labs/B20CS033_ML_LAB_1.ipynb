{
  "nbformat": 4,
  "nbformat_minor": 0,
  "metadata": {
    "colab": {
      "name": "B20CS033_ML_LAB_1.ipynb",
      "provenance": [],
      "collapsed_sections": []
    },
    "kernelspec": {
      "name": "python3",
      "display_name": "Python 3"
    },
    "language_info": {
      "name": "python"
    }
  },
  "cells": [
    {
      "cell_type": "markdown",
      "source": [
        "# **Problem 1 (Basic of Python):**\n",
        "Perform the following operations in python. (10 Marks)\\\n",
        "\\\n",
        "a. Convert file data to list (1 Marks)"
      ],
      "metadata": {
        "id": "Pz9fNJ1GCnUN"
      }
    },
    {
      "cell_type": "code",
      "source": [
        "import numpy as np\n",
        "l=[]\n",
        "raw_data=''\n",
        "\n",
        "with open('/content/drive/MyDrive/Colab Notebooks/Lab 1/q1.csv','r') as f:\n",
        "    raw_data=f.read()\n",
        "\n",
        "ll=raw_data[:-2].split('\\n')\n",
        "for i in ll:\n",
        "    row=i.split(',')\n",
        "    if len(row)==0:\n",
        "        continue\n",
        "    row = [float(x) if len(x) else 0 for x in row]\n",
        "    l.append(row)\n",
        "    \n",
        "print(l)"
      ],
      "metadata": {
        "colab": {
          "base_uri": "https://localhost:8080/"
        },
        "id": "MqDrKsnkDFny",
        "outputId": "c077173d-97df-49f4-81c6-d5146957e94c"
      },
      "execution_count": 27,
      "outputs": [
        {
          "output_type": "stream",
          "name": "stdout",
          "text": [
            "[[0.364, 1.263, 0.0, 0.0], [1.263, 2.901, 0.0, 1.0], [2.901, 4.523, 0.0, 1.0], [4.523, 6.229, 0.0, 1.0], [6.229, 7.901, 0.0, 1.0], [7.901, 9.507, 0.0, 1.0], [9.507, 11.162, 0.0, 1.0], [11.162, 12.918, 0.0, 1.0], [12.918, 14.64, 0.0, 1.0], [14.64, 16.447, 0.0, 1.0], [16.447, 18.119, 0.0, 1.0], [18.119, 19.908, 0.0, 0]]\n"
          ]
        }
      ]
    },
    {
      "cell_type": "markdown",
      "source": [
        "b. Convert User Input to a Number (1 Marks)"
      ],
      "metadata": {
        "id": "401SySwWDLHz"
      }
    },
    {
      "cell_type": "code",
      "source": [
        "n = int(input('input : '))\n",
        "print(n,type(n))"
      ],
      "metadata": {
        "colab": {
          "base_uri": "https://localhost:8080/"
        },
        "id": "tIAADu7TDQGi",
        "outputId": "8465b476-6cb7-4049-c2b2-21b824bec933"
      },
      "execution_count": null,
      "outputs": [
        {
          "output_type": "stream",
          "name": "stdout",
          "text": [
            "input : 165448\n",
            "165448 <class 'int'>\n"
          ]
        }
      ]
    },
    {
      "cell_type": "markdown",
      "source": [
        "c. Convert String to Datetime in Python (1 Marks)"
      ],
      "metadata": {
        "id": "hAzwx7XNDq5D"
      }
    },
    {
      "cell_type": "code",
      "source": [
        "from datetime import datetime\n",
        "\n",
        "date_string = \"18 January 2022  01:15:40\"\n",
        "date_object = datetime.strptime(date_string, \"%d %B %Y  %H:%M:%S\")\n",
        "\n",
        "print(date_object)\n",
        "print(type(date_object))"
      ],
      "metadata": {
        "colab": {
          "base_uri": "https://localhost:8080/"
        },
        "id": "W9lVHlGWDvw8",
        "outputId": "6fddfb24-3fee-4f5b-e395-953c24e16130"
      },
      "execution_count": null,
      "outputs": [
        {
          "output_type": "stream",
          "name": "stdout",
          "text": [
            "2022-01-18 01:15:40\n",
            "<class 'datetime.datetime'>\n"
          ]
        }
      ]
    },
    {
      "cell_type": "markdown",
      "source": [
        "d. How to call external commands in Python? (1 Marks)"
      ],
      "metadata": {
        "id": "3owILoaMGZ8J"
      }
    },
    {
      "cell_type": "code",
      "source": [
        "import os\n",
        "msg = \"echo example of an External Command\"\n",
        "print(os.popen(msg).read())"
      ],
      "metadata": {
        "id": "Wb4TdeHgGeNM",
        "colab": {
          "base_uri": "https://localhost:8080/"
        },
        "outputId": "0ed22ab9-9854-4852-cf72-8a64fa1b8cd1"
      },
      "execution_count": 12,
      "outputs": [
        {
          "output_type": "stream",
          "name": "stdout",
          "text": [
            "example of an External Command\n",
            "\n"
          ]
        }
      ]
    },
    {
      "cell_type": "markdown",
      "source": [
        "e. How to count the occurrences of a list item? (1 Marks)"
      ],
      "metadata": {
        "id": "5Pwzep27GfmV"
      }
    },
    {
      "cell_type": "code",
      "source": [
        "l = [1,2,2,2,3,4,5,6,2,3,2]\n",
        "\n",
        "# counting the number of occurances of 2 in l\n",
        "\n",
        "ans = 0\n",
        "\n",
        "for i in l:               # however we can directly use : ans=l.count(2) \n",
        "  if i==2:\n",
        "    ans+=1\n",
        "\n",
        "print('number of occurances of 2 in l =',ans)"
      ],
      "metadata": {
        "colab": {
          "base_uri": "https://localhost:8080/"
        },
        "id": "R4V0QOjKGiNN",
        "outputId": "37d4f90e-4ddc-40aa-e9ac-4742aad34163"
      },
      "execution_count": null,
      "outputs": [
        {
          "output_type": "stream",
          "name": "stdout",
          "text": [
            "number of occurances of 2 in l = 5\n"
          ]
        }
      ]
    },
    {
      "cell_type": "markdown",
      "source": [
        "f. How to flatten lists in Python? (1 Marks)"
      ],
      "metadata": {
        "id": "BT-qRHNRHcej"
      }
    },
    {
      "cell_type": "code",
      "source": [
        "def flatten(l : list):\n",
        "    ans=[]\n",
        "    for i in l:\n",
        "        if isinstance(i,list):\n",
        "            ans+=flatten(i)\n",
        "        else:\n",
        "            ans.append(i)\n",
        "    return ans\n",
        "\n",
        "l=[1,2,[3,[4,5]],[6,7,8],9,10]\n",
        "\n",
        "print(flatten(l))"
      ],
      "metadata": {
        "colab": {
          "base_uri": "https://localhost:8080/"
        },
        "id": "jrYvKuChHgFl",
        "outputId": "a36704f4-77a9-4b72-e525-82b52fff35ea"
      },
      "execution_count": null,
      "outputs": [
        {
          "output_type": "stream",
          "name": "stdout",
          "text": [
            "[1, 2, 3, 4, 5, 6, 7, 8, 9, 10]\n"
          ]
        }
      ]
    },
    {
      "cell_type": "markdown",
      "source": [
        "g. How to merge dictionaries in Python? (1 Marks)"
      ],
      "metadata": {
        "id": "i2tC9QvVJKio"
      }
    },
    {
      "cell_type": "code",
      "source": [
        "d1 = {'a': 1, 'b': 2, 'c': 3, 'd': 4}\n",
        "d2 = {'e': 5, 'f': 6, 'g': 7, 'h': 8}\n",
        "\n",
        "D = d1.copy()\n",
        "D.update(d2)\n",
        "\n",
        "print(D)"
      ],
      "metadata": {
        "colab": {
          "base_uri": "https://localhost:8080/"
        },
        "id": "ZyMuRg-zJNYA",
        "outputId": "88480a2f-18f8-42d9-a1c7-9f6d08879a7c"
      },
      "execution_count": null,
      "outputs": [
        {
          "output_type": "stream",
          "name": "stdout",
          "text": [
            "{'a': 1, 'b': 2, 'c': 3, 'd': 4, 'e': 5, 'f': 6, 'g': 7, 'h': 8}\n"
          ]
        }
      ]
    },
    {
      "cell_type": "markdown",
      "source": [
        "h. Remove duplicate items from a list in Python? (1 Marks)"
      ],
      "metadata": {
        "id": "zYHz3eMtJzuK"
      }
    },
    {
      "cell_type": "code",
      "source": [
        "l = [1,2,2,2,3,4,5,6,2,3,2]\n",
        "ans = list(set(l))\n",
        "\n",
        "print(ans)"
      ],
      "metadata": {
        "colab": {
          "base_uri": "https://localhost:8080/"
        },
        "id": "F11YzCwQJ0UU",
        "outputId": "446dfc0e-ede7-4153-8788-640a5a7abb85"
      },
      "execution_count": null,
      "outputs": [
        {
          "output_type": "stream",
          "name": "stdout",
          "text": [
            "[1, 2, 3, 4, 5, 6]\n"
          ]
        }
      ]
    },
    {
      "cell_type": "markdown",
      "source": [
        "i. Write a Python script to check whether a given key already exists in a dictionary. (2 Marks)"
      ],
      "metadata": {
        "id": "6Txzy8UVKHrj"
      }
    },
    {
      "cell_type": "code",
      "source": [
        "def is_in(k,d):\n",
        "    if k in d.keys():\n",
        "        return True\n",
        "    return False\n",
        "\n",
        "d = {'a': 1, 'b': 2, 'c': 3, 'd': 4, 'e': 5, 'f': 6, 'g': 7, 'h': 8}\n",
        "\n",
        "k1 = 'd'\n",
        "k2 = 'x'\n",
        "\n",
        "print(f'Check if \\'{k1}\\' is in dictionary : {is_in(k1,d)}')\n",
        "print(f'Check if \\'{k2}\\' is in dictionary : {is_in(k2,d)}\\n')"
      ],
      "metadata": {
        "colab": {
          "base_uri": "https://localhost:8080/"
        },
        "id": "jGjtbV_WKIUu",
        "outputId": "31e2f7f3-fac1-44c3-cb35-0380e51281ef"
      },
      "execution_count": null,
      "outputs": [
        {
          "output_type": "stream",
          "name": "stdout",
          "text": [
            "Check if 'd' is in dictionary : True\n",
            "Check if 'x' is in dictionary : False\n"
          ]
        }
      ]
    },
    {
      "cell_type": "markdown",
      "source": [
        "***\n",
        "\\\n",
        "# **Problem 2 (Numpy) :** \n",
        "Using numpy create two matrices of same size of your choice, fill the non-zero values into these two matrices. Now perform following: (10 Marks)\\\n",
        "\\\n",
        "(a) Display first row of first matrix"
      ],
      "metadata": {
        "id": "dHvUugTeLQ7R"
      }
    },
    {
      "cell_type": "code",
      "source": [
        "import numpy as np\n",
        "\n",
        "a = [[1, 2, 3], [4, 5, 6], [7, 8, 9]]\n",
        "b = [[10, 11, 12], [13, 14, 15], [16, 17, 18]]\n",
        "\n",
        "m1 = np.array(a)\n",
        "m2 = np.array(b)\n",
        "\n",
        "print(f'Matrix 1 : \\n{m1}\\n')\n",
        "print(f'Matrix 2 : \\n{m2}\\n')\n",
        "\n",
        "print('First row of first matrix : ',m1[0, :],'\\n')"
      ],
      "metadata": {
        "colab": {
          "base_uri": "https://localhost:8080/"
        },
        "id": "SHMdSBsKLffw",
        "outputId": "cfbf5674-1b71-4f1c-bde9-7f5728e22170"
      },
      "execution_count": null,
      "outputs": [
        {
          "output_type": "stream",
          "name": "stdout",
          "text": [
            "Matrix 1 : \n",
            "[[1 2 3]\n",
            " [4 5 6]\n",
            " [7 8 9]]\n",
            "\n",
            "Matrix 2 : \n",
            "[[10 11 12]\n",
            " [13 14 15]\n",
            " [16 17 18]]\n",
            "\n",
            "First row of first matrix :  [1 2 3]\n"
          ]
        }
      ]
    },
    {
      "cell_type": "markdown",
      "source": [
        "(b) Display second column of second matrix"
      ],
      "metadata": {
        "id": "QYWpyctCNe9a"
      }
    },
    {
      "cell_type": "code",
      "source": [
        "print(f'Second column of second matrix :  {m2[:,1]}\\n')"
      ],
      "metadata": {
        "colab": {
          "base_uri": "https://localhost:8080/"
        },
        "id": "H_mGv1LUNiGZ",
        "outputId": "47737792-6cd3-408e-e17e-5b9c229bfcff"
      },
      "execution_count": null,
      "outputs": [
        {
          "output_type": "stream",
          "name": "stdout",
          "text": [
            "Second column of second matrix :  [11 14 17]\n"
          ]
        }
      ]
    },
    {
      "cell_type": "markdown",
      "source": [
        "(c) Perform matrix multiplication"
      ],
      "metadata": {
        "id": "XNNyKKplN3Sx"
      }
    },
    {
      "cell_type": "code",
      "source": [
        "print(f'Matrix Multiplication ( m1 * m2 ) :\\n{np.matmul(m1,m2)}\\n')"
      ],
      "metadata": {
        "colab": {
          "base_uri": "https://localhost:8080/"
        },
        "id": "j5Jb7aH8N9Aj",
        "outputId": "5b20ad72-2581-4660-db8b-d540d896d0ae"
      },
      "execution_count": null,
      "outputs": [
        {
          "output_type": "stream",
          "name": "stdout",
          "text": [
            "Matrix Multiplication ( m1 * m2 ) :\n",
            "[[ 84  90  96]\n",
            " [201 216 231]\n",
            " [318 342 366]]\n"
          ]
        }
      ]
    },
    {
      "cell_type": "markdown",
      "source": [
        "(d) Perform element-wise multiplication"
      ],
      "metadata": {
        "id": "fGs_GCYJOXVU"
      }
    },
    {
      "cell_type": "code",
      "source": [
        "print(f'Element wise multiplication ( m1 * m2 ):\\n{m1*m2}\\n')"
      ],
      "metadata": {
        "colab": {
          "base_uri": "https://localhost:8080/"
        },
        "id": "NUH7ZPnsOap6",
        "outputId": "d76017ad-af86-4e1d-b3bb-dab473dc7790"
      },
      "execution_count": null,
      "outputs": [
        {
          "output_type": "stream",
          "name": "stdout",
          "text": [
            "Element wise multiplication ( m1 * m2 ):\n",
            "[[ 10  22  36]\n",
            " [ 52  70  90]\n",
            " [112 136 162]]\n"
          ]
        }
      ]
    },
    {
      "cell_type": "markdown",
      "source": [
        "(e) Perform dot product between each column of first matrix and each column of second matrix"
      ],
      "metadata": {
        "id": "RaBK2vPTOs68"
      }
    },
    {
      "cell_type": "code",
      "source": [
        "r = np.shape(m1)[0]\n",
        "c = np.shape(m1)[1]\n",
        "\n",
        "M = np.ndarray((r, c), dtype=int)\n",
        "\n",
        "for i in range(c):\n",
        "    x = 0\n",
        "    for j in range(r):\n",
        "        x += m1[j][i]*m2[j][i]\n",
        "    for ix in range(r):\n",
        "        M[ix][i] = x\n",
        "\n",
        "print(f'Dot product between columns of m1 and m2 : \\n{M}\\n')"
      ],
      "metadata": {
        "colab": {
          "base_uri": "https://localhost:8080/"
        },
        "id": "6jG2lWghOzlZ",
        "outputId": "b4665def-8a7e-44ec-e428-9b3d240051d5"
      },
      "execution_count": null,
      "outputs": [
        {
          "output_type": "stream",
          "name": "stdout",
          "text": [
            "Dot product between columns of m1 and m2 : \n",
            "[[174 228 288]\n",
            " [174 228 288]\n",
            " [174 228 288]]\n",
            "\n"
          ]
        }
      ]
    },
    {
      "cell_type": "markdown",
      "source": [
        "***\n",
        "\\\n",
        "# **Problem 3 (Pandas) :**\n",
        "A csv file has been provided to you at this link. The given dataset is related\n",
        "to cars and contains 26 columns.In the given dataset, “Price” is the target variable. (15 Marks)\\\n",
        "\\\n",
        "i) Assign a type to each of the following features (a) Model, (b)Type, (c) Max. Price and (d)Airbags from the following: ordinal/nominal/ratio/interval scale. (1 Marks)"
      ],
      "metadata": {
        "id": "VK8GZNEGSYTa"
      }
    },
    {
      "cell_type": "code",
      "source": [
        "# Model     -> Nominal\n",
        "# Type      -> Ordinal\n",
        "# Max.Price -> Ratio\n",
        "# Airbags   -> Nominal"
      ],
      "metadata": {
        "id": "pgC5hj-bS36r"
      },
      "execution_count": null,
      "outputs": []
    },
    {
      "cell_type": "markdown",
      "source": [
        "ii) Write a function to handle the missing values in the dataset (e.g., any NA, NaN values). (2\n",
        "Marks)"
      ],
      "metadata": {
        "id": "ESwBmwdYS-vb"
      }
    },
    {
      "cell_type": "code",
      "source": [
        "import pandas\n",
        "\n",
        "def clean_data(df:pandas.DataFrame):\n",
        "    df.dropna(inplace=True)\n",
        "\n",
        "df = pandas.read_csv('/content/drive/MyDrive/Colab Notebooks/Lab 1/Cars93.csv')\n",
        "print(df.head())\n",
        "print(\"No. of missing values before cleaning data : \",df.isnull().sum().sum())\n",
        "clean_data(df)\n",
        "print(\"No. of missing values after cleaning data : \",df.isnull().sum().sum())"
      ],
      "metadata": {
        "colab": {
          "base_uri": "https://localhost:8080/"
        },
        "id": "g9xPslpfS_tx",
        "outputId": "9819cab7-13cb-4f62-d9c1-51bb38dc5796"
      },
      "execution_count": 28,
      "outputs": [
        {
          "output_type": "stream",
          "name": "stdout",
          "text": [
            "  Manufacturer    Model     Type  ...  Luggage.room  Weight   Origin\n",
            "0        Acura  Integra    Small  ...          11.0    2705  non-USA\n",
            "1        Acura   Legend  Midsize  ...          15.0    3560  non-USA\n",
            "2         Audi       90  Compact  ...          14.0    3375  non-USA\n",
            "3         Audi      100  Midsize  ...          17.0    3405  non-USA\n",
            "4          BMW     535i  Midsize  ...          13.0    3640  non-USA\n",
            "\n",
            "[5 rows x 26 columns]\n",
            "No. of missing values before cleaning data :  13\n",
            "No. of missing values after cleaning data :  0\n"
          ]
        }
      ]
    },
    {
      "cell_type": "markdown",
      "source": [
        "iii) Write a function to reduce noise (any error in the feature) in individual attributes (2 marks)"
      ],
      "metadata": {
        "id": "sgrWeXR_WWJv"
      }
    },
    {
      "cell_type": "code",
      "source": [
        "df = pandas.read_csv('/content/drive/MyDrive/Colab Notebooks/Lab 1/Cars93.csv')\n",
        "\n",
        "cols = {}\n",
        "row1 = df.iloc[0]\n",
        "\n",
        "for i in row1.index:\n",
        "    cols[i]=type(row1[i])\n",
        "\n",
        "for i in df.columns:\n",
        "    for j in range(len(df)):\n",
        "        if type(df[i][j])!=cols[i]:\n",
        "            print(df[i][j],i,j)\n",
        "            df.drop(j,inplace==True)\n",
        "    # print(df[i].iloc[0])\n",
        "    # df.drop(df[type(df[i])!=cols[i]].index, inplace = True)\n",
        "\n",
        "print(df.head())"
      ],
      "metadata": {
        "colab": {
          "base_uri": "https://localhost:8080/"
        },
        "id": "Pa9LaZ90WW7-",
        "outputId": "43bfaf9c-cbce-40b7-a0de-b74c16671af5"
      },
      "execution_count": 37,
      "outputs": [
        {
          "output_type": "stream",
          "name": "stdout",
          "text": [
            "  Manufacturer    Model     Type  ...  Luggage.room  Weight   Origin\n",
            "0        Acura  Integra    Small  ...          11.0    2705  non-USA\n",
            "1        Acura   Legend  Midsize  ...          15.0    3560  non-USA\n",
            "2         Audi       90  Compact  ...          14.0    3375  non-USA\n",
            "3         Audi      100  Midsize  ...          17.0    3405  non-USA\n",
            "4          BMW     535i  Midsize  ...          13.0    3640  non-USA\n",
            "\n",
            "[5 rows x 26 columns]\n"
          ]
        }
      ]
    },
    {
      "cell_type": "markdown",
      "source": [
        "iv) Write a function to encode all the categorical features in the dataset according to the type of\n",
        "variable jointly. (5 Marks)"
      ],
      "metadata": {
        "id": "8cue8CRzWXyO"
      }
    },
    {
      "cell_type": "code",
      "source": [
        "from sklearn.preprocessing import LabelEncoder\n",
        "\n",
        "def encode(df):\n",
        "  ndf=df.apply(LabelEncoder().fit_transform)\n",
        "  return ndf\n",
        "\n",
        "new_df = encode(df)\n",
        "print(new_df.head())"
      ],
      "metadata": {
        "colab": {
          "base_uri": "https://localhost:8080/"
        },
        "id": "aFNlW7p5Walj",
        "outputId": "ea297ac2-7a49-4880-b99f-e710ff48f473"
      },
      "execution_count": null,
      "outputs": [
        {
          "output_type": "stream",
          "name": "stdout",
          "text": [
            "   Manufacturer  Model  Type  ...  Luggage.room  Weight  Origin\n",
            "0             0     48     3  ...             4      24       1\n",
            "1             0     55     2  ...             8      60       1\n",
            "2             1      8     0  ...             7      50       1\n",
            "3             1      0     2  ...            10      52       1\n",
            "4             2      5     2  ...             6      64       1\n",
            "\n",
            "[5 rows x 26 columns]\n"
          ]
        }
      ]
    },
    {
      "cell_type": "markdown",
      "source": [
        "v) Write a function to normalize / scale the features either individually or jointly. (2 Marks)"
      ],
      "metadata": {
        "id": "Hy0CzthoWbKe"
      }
    },
    {
      "cell_type": "code",
      "source": [
        "from sklearn import preprocessing\n",
        "\n",
        "def scale_data(df):\n",
        "    scaler = preprocessing.MinMaxScaler()\n",
        "    return scaler.fit_transform(df)"
      ],
      "metadata": {
        "id": "Y64A055SWeO2"
      },
      "execution_count": 38,
      "outputs": []
    },
    {
      "cell_type": "markdown",
      "source": [
        "vi) Write a function to create a random split of the data into train, validation and test sets in the\n",
        "ratio of [70:20:10]. (3 Marks)"
      ],
      "metadata": {
        "id": "NmKJoqpzWexE"
      }
    },
    {
      "cell_type": "code",
      "source": [
        "from sklearn.model_selection import train_test_split\n",
        "\n",
        "def train_val_test_split(x,y):\n",
        "\n",
        "    x_train, x_test, y_train, y_test = train_test_split(x, y, test_size=0.3, random_state=1)\n",
        "\n",
        "    x_val, x_test, y_val, y_test = train_test_split(x_test, y_test, test_size=0.33, random_state=1)\n",
        "\n",
        "    return [x_train, x_val, x_test, y_train, y_val, y_test]"
      ],
      "metadata": {
        "id": "KgkbMmvCWgt8"
      },
      "execution_count": 39,
      "outputs": []
    },
    {
      "cell_type": "markdown",
      "source": [
        "***\n",
        "\\\n",
        "# **Problem 4 (Plotting) :**\n",
        "Plot following functions: (5 Marks) \\\n",
        "\\\n",
        "a) y = 5x + 4 where x ranges from [-10, 10].\n"
      ],
      "metadata": {
        "id": "5cMrC6-0WlU-"
      }
    },
    {
      "cell_type": "code",
      "source": [
        "import matplotlib.pyplot as plt\n",
        "\n",
        "x = []\n",
        "y = []\n",
        "\n",
        "for i in range(-10, 11):\n",
        "    x.append(i)\n",
        "    y.append(5*i+4)\n",
        "    \n",
        "plt.plot(x, y)\n",
        "plt.show()"
      ],
      "metadata": {
        "colab": {
          "base_uri": "https://localhost:8080/",
          "height": 265
        },
        "id": "-ybiLooSW38b",
        "outputId": "165bb128-650a-4132-c16f-f5b0e49a8422"
      },
      "execution_count": null,
      "outputs": [
        {
          "output_type": "display_data",
          "data": {
            "image/png": "[encoded data removed]",
            "text/plain": [
              "<Figure size 432x288 with 1 Axes>"
            ]
          },
          "metadata": {
            "needs_background": "light"
          }
        }
      ]
    },
    {
      "cell_type": "markdown",
      "source": [
        "b) y = ln(x) where x > 10 and x < 100."
      ],
      "metadata": {
        "id": "44UzadEWW8-_"
      }
    },
    {
      "cell_type": "code",
      "source": [
        "x = []\n",
        "y = []\n",
        "\n",
        "for i in range(11, 100):\n",
        "    x.append(i)\n",
        "    y.append(math.log(i))\n",
        "    \n",
        "plt.plot(x, y)\n",
        "plt.show()"
      ],
      "metadata": {
        "colab": {
          "base_uri": "https://localhost:8080/",
          "height": 265
        },
        "id": "dPa1jlVkW-VF",
        "outputId": "f71f44ff-0768-4716-b74b-8f62b2b29864"
      },
      "execution_count": null,
      "outputs": [
        {
          "output_type": "display_data",
          "data": {
            "image/png": "[encoded data removed]",
            "text/plain": [
              "<Figure size 432x288 with 1 Axes>"
            ]
          },
          "metadata": {
            "needs_background": "light"
          }
        }
      ]
    },
    {
      "cell_type": "markdown",
      "source": [
        "c) y = x^2 where x ranges from [-10, 10]."
      ],
      "metadata": {
        "id": "h8TPPk9nW4zp"
      }
    },
    {
      "cell_type": "code",
      "source": [
        "x = []\n",
        "y = []\n",
        "\n",
        "for i in range(-10, 11):\n",
        "    x.append(i)\n",
        "    y.append(i*i)\n",
        "    \n",
        "plt.plot(x, y)\n",
        "plt.show()"
      ],
      "metadata": {
        "colab": {
          "base_uri": "https://localhost:8080/",
          "height": 265
        },
        "id": "ELl-2fppXIXM",
        "outputId": "75cea11d-d874-48d5-badc-b06becb3d2a8"
      },
      "execution_count": null,
      "outputs": [
        {
          "output_type": "display_data",
          "data": {
            "image/png": "[encoded data removed]",
            "text/plain": [
              "<Figure size 432x288 with 1 Axes>"
            ]
          },
          "metadata": {
            "needs_background": "light"
          }
        }
      ]
    },
    {
      "cell_type": "markdown",
      "source": [
        "***\n",
        "\\\n",
        "# **Problem 5 (Evaluation Matrix) :**\n",
        " \\\n",
        "Download colab file and dataset from given link. (10 Marks)\\\n",
        "Some task we already performed on given data in same colab file, Now your task is to perform following operation from inbuilt and scratch :\n",
        "1. Average accuracy and class wise accuracy\n",
        "2. Precision\n",
        "3. Recall\n",
        "4. F1-Score\n",
        "5. Sensitivity\n",
        "6. specificity"
      ],
      "metadata": {
        "id": "DE95Cd0cXZ5f"
      }
    },
    {
      "cell_type": "markdown",
      "source": [
        "# Import the Necessary Python Libraries and Components"
      ],
      "metadata": {
        "id": "yfz9jnM4xClx"
      }
    },
    {
      "cell_type": "code",
      "execution_count": 44,
      "metadata": {
        "id": "20q-V4-qwhNN"
      },
      "outputs": [],
      "source": [
        "import pandas as pd\n",
        "import numpy as np\n",
        "from sklearn.model_selection import train_test_split as tts\n",
        "from sklearn.linear_model import LogisticRegression as LR\n",
        "from sklearn.tree import DecisionTreeClassifier as DTC\n",
        "from sklearn.metrics import confusion_matrix as cm\n",
        "from sklearn.metrics import precision_score as ps\n",
        "from sklearn.metrics import recall_score as rs\n",
        "from sklearn.metrics import f1_score as f1s\n",
        "from sklearn.metrics import accuracy_score as acc"
      ]
    },
    {
      "cell_type": "markdown",
      "source": [
        "### To Disable Convergence Warnings (For Custom Training)"
      ],
      "metadata": {
        "id": "NBAaHdKV5NcA"
      }
    },
    {
      "cell_type": "code",
      "source": [
        "from warnings import simplefilter\n",
        "from sklearn.exceptions import ConvergenceWarning\n",
        "simplefilter(\"ignore\", category=ConvergenceWarning)"
      ],
      "metadata": {
        "id": "JoObP-Hr5HQ0"
      },
      "execution_count": 45,
      "outputs": []
    },
    {
      "cell_type": "markdown",
      "source": [
        "# 1.) Input the Dataset"
      ],
      "metadata": {
        "id": "0k9KnDIDxT40"
      }
    },
    {
      "cell_type": "code",
      "source": [
        "# Dataset Reference :- https://www.kaggle.com/uciml/breast-cancer-wisconsin-data\n",
        "\n",
        "data = pd.read_csv(\"/content/drive/MyDrive/Colab Notebooks/Lab 1/data.csv\")\n",
        "data"
      ],
      "metadata": {
        "colab": {
          "base_uri": "https://localhost:8080/",
          "height": 505
        },
        "id": "5Pu5cptXxT-4",
        "outputId": "62269a82-da6b-4e8c-8272-a32e6e791383"
      },
      "execution_count": 46,
      "outputs": [
        {
          "output_type": "execute_result",
          "data": {
            "text/html": [
              "\n",
              "  <div id=\"df-1b626ad5-4085-425f-9978-6aea1d687c01\">\n",
              "    <div class=\"colab-df-container\">\n",
              "      <div>\n",
              "<style scoped>\n",
              "    .dataframe tbody tr th:only-of-type {\n",
              "        vertical-align: middle;\n",
              "    }\n",
              "\n",
              "    .dataframe tbody tr th {\n",
              "        vertical-align: top;\n",
              "    }\n",
              "\n",
              "    .dataframe thead th {\n",
              "        text-align: right;\n",
              "    }\n",
              "</style>\n",
              "<table border=\"1\" class=\"dataframe\">\n",
              "  <thead>\n",
              "    <tr style=\"text-align: right;\">\n",
              "      <th></th>\n",
              "      <th>id</th>\n",
              "      <th>diagnosis</th>\n",
              "      <th>radius_mean</th>\n",
              "      <th>texture_mean</th>\n",
              "      <th>perimeter_mean</th>\n",
              "      <th>area_mean</th>\n",
              "      <th>smoothness_mean</th>\n",
              "      <th>compactness_mean</th>\n",
              "      <th>concavity_mean</th>\n",
              "      <th>concave points_mean</th>\n",
              "      <th>symmetry_mean</th>\n",
              "      <th>fractal_dimension_mean</th>\n",
              "      <th>radius_se</th>\n",
              "      <th>texture_se</th>\n",
              "      <th>perimeter_se</th>\n",
              "      <th>area_se</th>\n",
              "      <th>smoothness_se</th>\n",
              "      <th>compactness_se</th>\n",
              "      <th>concavity_se</th>\n",
              "      <th>concave points_se</th>\n",
              "      <th>symmetry_se</th>\n",
              "      <th>fractal_dimension_se</th>\n",
              "      <th>radius_worst</th>\n",
              "      <th>texture_worst</th>\n",
              "      <th>perimeter_worst</th>\n",
              "      <th>area_worst</th>\n",
              "      <th>smoothness_worst</th>\n",
              "      <th>compactness_worst</th>\n",
              "      <th>concavity_worst</th>\n",
              "      <th>concave points_worst</th>\n",
              "      <th>symmetry_worst</th>\n",
              "      <th>fractal_dimension_worst</th>\n",
              "      <th>Unnamed: 32</th>\n",
              "    </tr>\n",
              "  </thead>\n",
              "  <tbody>\n",
              "    <tr>\n",
              "      <th>0</th>\n",
              "      <td>842302</td>\n",
              "      <td>M</td>\n",
              "      <td>17.99</td>\n",
              "      <td>10.38</td>\n",
              "      <td>122.80</td>\n",
              "      <td>1001.0</td>\n",
              "      <td>0.11840</td>\n",
              "      <td>0.27760</td>\n",
              "      <td>0.30010</td>\n",
              "      <td>0.14710</td>\n",
              "      <td>0.2419</td>\n",
              "      <td>0.07871</td>\n",
              "      <td>1.0950</td>\n",
              "      <td>0.9053</td>\n",
              "      <td>8.589</td>\n",
              "      <td>153.40</td>\n",
              "      <td>0.006399</td>\n",
              "      <td>0.04904</td>\n",
              "      <td>0.05373</td>\n",
              "      <td>0.01587</td>\n",
              "      <td>0.03003</td>\n",
              "      <td>0.006193</td>\n",
              "      <td>25.380</td>\n",
              "      <td>17.33</td>\n",
              "      <td>184.60</td>\n",
              "      <td>2019.0</td>\n",
              "      <td>0.16220</td>\n",
              "      <td>0.66560</td>\n",
              "      <td>0.7119</td>\n",
              "      <td>0.2654</td>\n",
              "      <td>0.4601</td>\n",
              "      <td>0.11890</td>\n",
              "      <td>NaN</td>\n",
              "    </tr>\n",
              "    <tr>\n",
              "      <th>1</th>\n",
              "      <td>842517</td>\n",
              "      <td>M</td>\n",
              "      <td>20.57</td>\n",
              "      <td>17.77</td>\n",
              "      <td>132.90</td>\n",
              "      <td>1326.0</td>\n",
              "      <td>0.08474</td>\n",
              "      <td>0.07864</td>\n",
              "      <td>0.08690</td>\n",
              "      <td>0.07017</td>\n",
              "      <td>0.1812</td>\n",
              "      <td>0.05667</td>\n",
              "      <td>0.5435</td>\n",
              "      <td>0.7339</td>\n",
              "      <td>3.398</td>\n",
              "      <td>74.08</td>\n",
              "      <td>0.005225</td>\n",
              "      <td>0.01308</td>\n",
              "      <td>0.01860</td>\n",
              "      <td>0.01340</td>\n",
              "      <td>0.01389</td>\n",
              "      <td>0.003532</td>\n",
              "      <td>24.990</td>\n",
              "      <td>23.41</td>\n",
              "      <td>158.80</td>\n",
              "      <td>1956.0</td>\n",
              "      <td>0.12380</td>\n",
              "      <td>0.18660</td>\n",
              "      <td>0.2416</td>\n",
              "      <td>0.1860</td>\n",
              "      <td>0.2750</td>\n",
              "      <td>0.08902</td>\n",
              "      <td>NaN</td>\n",
              "    </tr>\n",
              "    <tr>\n",
              "      <th>2</th>\n",
              "      <td>84300903</td>\n",
              "      <td>M</td>\n",
              "      <td>19.69</td>\n",
              "      <td>21.25</td>\n",
              "      <td>130.00</td>\n",
              "      <td>1203.0</td>\n",
              "      <td>0.10960</td>\n",
              "      <td>0.15990</td>\n",
              "      <td>0.19740</td>\n",
              "      <td>0.12790</td>\n",
              "      <td>0.2069</td>\n",
              "      <td>0.05999</td>\n",
              "      <td>0.7456</td>\n",
              "      <td>0.7869</td>\n",
              "      <td>4.585</td>\n",
              "      <td>94.03</td>\n",
              "      <td>0.006150</td>\n",
              "      <td>0.04006</td>\n",
              "      <td>0.03832</td>\n",
              "      <td>0.02058</td>\n",
              "      <td>0.02250</td>\n",
              "      <td>0.004571</td>\n",
              "      <td>23.570</td>\n",
              "      <td>25.53</td>\n",
              "      <td>152.50</td>\n",
              "      <td>1709.0</td>\n",
              "      <td>0.14440</td>\n",
              "      <td>0.42450</td>\n",
              "      <td>0.4504</td>\n",
              "      <td>0.2430</td>\n",
              "      <td>0.3613</td>\n",
              "      <td>0.08758</td>\n",
              "      <td>NaN</td>\n",
              "    </tr>\n",
              "    <tr>\n",
              "      <th>3</th>\n",
              "      <td>84348301</td>\n",
              "      <td>M</td>\n",
              "      <td>11.42</td>\n",
              "      <td>20.38</td>\n",
              "      <td>77.58</td>\n",
              "      <td>386.1</td>\n",
              "      <td>0.14250</td>\n",
              "      <td>0.28390</td>\n",
              "      <td>0.24140</td>\n",
              "      <td>0.10520</td>\n",
              "      <td>0.2597</td>\n",
              "      <td>0.09744</td>\n",
              "      <td>0.4956</td>\n",
              "      <td>1.1560</td>\n",
              "      <td>3.445</td>\n",
              "      <td>27.23</td>\n",
              "      <td>0.009110</td>\n",
              "      <td>0.07458</td>\n",
              "      <td>0.05661</td>\n",
              "      <td>0.01867</td>\n",
              "      <td>0.05963</td>\n",
              "      <td>0.009208</td>\n",
              "      <td>14.910</td>\n",
              "      <td>26.50</td>\n",
              "      <td>98.87</td>\n",
              "      <td>567.7</td>\n",
              "      <td>0.20980</td>\n",
              "      <td>0.86630</td>\n",
              "      <td>0.6869</td>\n",
              "      <td>0.2575</td>\n",
              "      <td>0.6638</td>\n",
              "      <td>0.17300</td>\n",
              "      <td>NaN</td>\n",
              "    </tr>\n",
              "    <tr>\n",
              "      <th>4</th>\n",
              "      <td>84358402</td>\n",
              "      <td>M</td>\n",
              "      <td>20.29</td>\n",
              "      <td>14.34</td>\n",
              "      <td>135.10</td>\n",
              "      <td>1297.0</td>\n",
              "      <td>0.10030</td>\n",
              "      <td>0.13280</td>\n",
              "      <td>0.19800</td>\n",
              "      <td>0.10430</td>\n",
              "      <td>0.1809</td>\n",
              "      <td>0.05883</td>\n",
              "      <td>0.7572</td>\n",
              "      <td>0.7813</td>\n",
              "      <td>5.438</td>\n",
              "      <td>94.44</td>\n",
              "      <td>0.011490</td>\n",
              "      <td>0.02461</td>\n",
              "      <td>0.05688</td>\n",
              "      <td>0.01885</td>\n",
              "      <td>0.01756</td>\n",
              "      <td>0.005115</td>\n",
              "      <td>22.540</td>\n",
              "      <td>16.67</td>\n",
              "      <td>152.20</td>\n",
              "      <td>1575.0</td>\n",
              "      <td>0.13740</td>\n",
              "      <td>0.20500</td>\n",
              "      <td>0.4000</td>\n",
              "      <td>0.1625</td>\n",
              "      <td>0.2364</td>\n",
              "      <td>0.07678</td>\n",
              "      <td>NaN</td>\n",
              "    </tr>\n",
              "    <tr>\n",
              "      <th>...</th>\n",
              "      <td>...</td>\n",
              "      <td>...</td>\n",
              "      <td>...</td>\n",
              "      <td>...</td>\n",
              "      <td>...</td>\n",
              "      <td>...</td>\n",
              "      <td>...</td>\n",
              "      <td>...</td>\n",
              "      <td>...</td>\n",
              "      <td>...</td>\n",
              "      <td>...</td>\n",
              "      <td>...</td>\n",
              "      <td>...</td>\n",
              "      <td>...</td>\n",
              "      <td>...</td>\n",
              "      <td>...</td>\n",
              "      <td>...</td>\n",
              "      <td>...</td>\n",
              "      <td>...</td>\n",
              "      <td>...</td>\n",
              "      <td>...</td>\n",
              "      <td>...</td>\n",
              "      <td>...</td>\n",
              "      <td>...</td>\n",
              "      <td>...</td>\n",
              "      <td>...</td>\n",
              "      <td>...</td>\n",
              "      <td>...</td>\n",
              "      <td>...</td>\n",
              "      <td>...</td>\n",
              "      <td>...</td>\n",
              "      <td>...</td>\n",
              "      <td>...</td>\n",
              "    </tr>\n",
              "    <tr>\n",
              "      <th>564</th>\n",
              "      <td>926424</td>\n",
              "      <td>M</td>\n",
              "      <td>21.56</td>\n",
              "      <td>22.39</td>\n",
              "      <td>142.00</td>\n",
              "      <td>1479.0</td>\n",
              "      <td>0.11100</td>\n",
              "      <td>0.11590</td>\n",
              "      <td>0.24390</td>\n",
              "      <td>0.13890</td>\n",
              "      <td>0.1726</td>\n",
              "      <td>0.05623</td>\n",
              "      <td>1.1760</td>\n",
              "      <td>1.2560</td>\n",
              "      <td>7.673</td>\n",
              "      <td>158.70</td>\n",
              "      <td>0.010300</td>\n",
              "      <td>0.02891</td>\n",
              "      <td>0.05198</td>\n",
              "      <td>0.02454</td>\n",
              "      <td>0.01114</td>\n",
              "      <td>0.004239</td>\n",
              "      <td>25.450</td>\n",
              "      <td>26.40</td>\n",
              "      <td>166.10</td>\n",
              "      <td>2027.0</td>\n",
              "      <td>0.14100</td>\n",
              "      <td>0.21130</td>\n",
              "      <td>0.4107</td>\n",
              "      <td>0.2216</td>\n",
              "      <td>0.2060</td>\n",
              "      <td>0.07115</td>\n",
              "      <td>NaN</td>\n",
              "    </tr>\n",
              "    <tr>\n",
              "      <th>565</th>\n",
              "      <td>926682</td>\n",
              "      <td>M</td>\n",
              "      <td>20.13</td>\n",
              "      <td>28.25</td>\n",
              "      <td>131.20</td>\n",
              "      <td>1261.0</td>\n",
              "      <td>0.09780</td>\n",
              "      <td>0.10340</td>\n",
              "      <td>0.14400</td>\n",
              "      <td>0.09791</td>\n",
              "      <td>0.1752</td>\n",
              "      <td>0.05533</td>\n",
              "      <td>0.7655</td>\n",
              "      <td>2.4630</td>\n",
              "      <td>5.203</td>\n",
              "      <td>99.04</td>\n",
              "      <td>0.005769</td>\n",
              "      <td>0.02423</td>\n",
              "      <td>0.03950</td>\n",
              "      <td>0.01678</td>\n",
              "      <td>0.01898</td>\n",
              "      <td>0.002498</td>\n",
              "      <td>23.690</td>\n",
              "      <td>38.25</td>\n",
              "      <td>155.00</td>\n",
              "      <td>1731.0</td>\n",
              "      <td>0.11660</td>\n",
              "      <td>0.19220</td>\n",
              "      <td>0.3215</td>\n",
              "      <td>0.1628</td>\n",
              "      <td>0.2572</td>\n",
              "      <td>0.06637</td>\n",
              "      <td>NaN</td>\n",
              "    </tr>\n",
              "    <tr>\n",
              "      <th>566</th>\n",
              "      <td>926954</td>\n",
              "      <td>M</td>\n",
              "      <td>16.60</td>\n",
              "      <td>28.08</td>\n",
              "      <td>108.30</td>\n",
              "      <td>858.1</td>\n",
              "      <td>0.08455</td>\n",
              "      <td>0.10230</td>\n",
              "      <td>0.09251</td>\n",
              "      <td>0.05302</td>\n",
              "      <td>0.1590</td>\n",
              "      <td>0.05648</td>\n",
              "      <td>0.4564</td>\n",
              "      <td>1.0750</td>\n",
              "      <td>3.425</td>\n",
              "      <td>48.55</td>\n",
              "      <td>0.005903</td>\n",
              "      <td>0.03731</td>\n",
              "      <td>0.04730</td>\n",
              "      <td>0.01557</td>\n",
              "      <td>0.01318</td>\n",
              "      <td>0.003892</td>\n",
              "      <td>18.980</td>\n",
              "      <td>34.12</td>\n",
              "      <td>126.70</td>\n",
              "      <td>1124.0</td>\n",
              "      <td>0.11390</td>\n",
              "      <td>0.30940</td>\n",
              "      <td>0.3403</td>\n",
              "      <td>0.1418</td>\n",
              "      <td>0.2218</td>\n",
              "      <td>0.07820</td>\n",
              "      <td>NaN</td>\n",
              "    </tr>\n",
              "    <tr>\n",
              "      <th>567</th>\n",
              "      <td>927241</td>\n",
              "      <td>M</td>\n",
              "      <td>20.60</td>\n",
              "      <td>29.33</td>\n",
              "      <td>140.10</td>\n",
              "      <td>1265.0</td>\n",
              "      <td>0.11780</td>\n",
              "      <td>0.27700</td>\n",
              "      <td>0.35140</td>\n",
              "      <td>0.15200</td>\n",
              "      <td>0.2397</td>\n",
              "      <td>0.07016</td>\n",
              "      <td>0.7260</td>\n",
              "      <td>1.5950</td>\n",
              "      <td>5.772</td>\n",
              "      <td>86.22</td>\n",
              "      <td>0.006522</td>\n",
              "      <td>0.06158</td>\n",
              "      <td>0.07117</td>\n",
              "      <td>0.01664</td>\n",
              "      <td>0.02324</td>\n",
              "      <td>0.006185</td>\n",
              "      <td>25.740</td>\n",
              "      <td>39.42</td>\n",
              "      <td>184.60</td>\n",
              "      <td>1821.0</td>\n",
              "      <td>0.16500</td>\n",
              "      <td>0.86810</td>\n",
              "      <td>0.9387</td>\n",
              "      <td>0.2650</td>\n",
              "      <td>0.4087</td>\n",
              "      <td>0.12400</td>\n",
              "      <td>NaN</td>\n",
              "    </tr>\n",
              "    <tr>\n",
              "      <th>568</th>\n",
              "      <td>92751</td>\n",
              "      <td>B</td>\n",
              "      <td>7.76</td>\n",
              "      <td>24.54</td>\n",
              "      <td>47.92</td>\n",
              "      <td>181.0</td>\n",
              "      <td>0.05263</td>\n",
              "      <td>0.04362</td>\n",
              "      <td>0.00000</td>\n",
              "      <td>0.00000</td>\n",
              "      <td>0.1587</td>\n",
              "      <td>0.05884</td>\n",
              "      <td>0.3857</td>\n",
              "      <td>1.4280</td>\n",
              "      <td>2.548</td>\n",
              "      <td>19.15</td>\n",
              "      <td>0.007189</td>\n",
              "      <td>0.00466</td>\n",
              "      <td>0.00000</td>\n",
              "      <td>0.00000</td>\n",
              "      <td>0.02676</td>\n",
              "      <td>0.002783</td>\n",
              "      <td>9.456</td>\n",
              "      <td>30.37</td>\n",
              "      <td>59.16</td>\n",
              "      <td>268.6</td>\n",
              "      <td>0.08996</td>\n",
              "      <td>0.06444</td>\n",
              "      <td>0.0000</td>\n",
              "      <td>0.0000</td>\n",
              "      <td>0.2871</td>\n",
              "      <td>0.07039</td>\n",
              "      <td>NaN</td>\n",
              "    </tr>\n",
              "  </tbody>\n",
              "</table>\n",
              "<p>569 rows × 33 columns</p>\n",
              "</div>\n",
              "      <button class=\"colab-df-convert\" onclick=\"convertToInteractive('df-1b626ad5-4085-425f-9978-6aea1d687c01')\"\n",
              "              title=\"Convert this dataframe to an interactive table.\"\n",
              "              style=\"display:none;\">\n",
              "        \n",
              "  <svg xmlns=\"http://www.w3.org/2000/svg\" height=\"24px\"viewBox=\"0 0 24 24\"\n",
              "       width=\"24px\">\n",
              "    <path d=\"M0 0h24v24H0V0z\" fill=\"none\"/>\n",
              "    <path d=\"M18.56 5.44l.94 2.06.94-2.06 2.06-.94-2.06-.94-.94-2.06-.94 2.06-2.06.94zm-11 1L8.5 8.5l.94-2.06 2.06-.94-2.06-.94L8.5 2.5l-.94 2.06-2.06.94zm10 10l.94 2.06.94-2.06 2.06-.94-2.06-.94-.94-2.06-.94 2.06-2.06.94z\"/><path d=\"M17.41 7.96l-1.37-1.37c-.4-.4-.92-.59-1.43-.59-.52 0-1.04.2-1.43.59L10.3 9.45l-7.72 7.72c-.78.78-.78 2.05 0 2.83L4 21.41c.39.39.9.59 1.41.59.51 0 1.02-.2 1.41-.59l7.78-7.78 2.81-2.81c.8-.78.8-2.07 0-2.86zM5.41 20L4 18.59l7.72-7.72 1.47 1.35L5.41 20z\"/>\n",
              "  </svg>\n",
              "      </button>\n",
              "      \n",
              "  <style>\n",
              "    .colab-df-container {\n",
              "      display:flex;\n",
              "      flex-wrap:wrap;\n",
              "      gap: 12px;\n",
              "    }\n",
              "\n",
              "    .colab-df-convert {\n",
              "      background-color: #E8F0FE;\n",
              "      border: none;\n",
              "      border-radius: 50%;\n",
              "      cursor: pointer;\n",
              "      display: none;\n",
              "      fill: #1967D2;\n",
              "      height: 32px;\n",
              "      padding: 0 0 0 0;\n",
              "      width: 32px;\n",
              "    }\n",
              "\n",
              "    .colab-df-convert:hover {\n",
              "      background-color: #E2EBFA;\n",
              "      box-shadow: 0px 1px 2px rgba(60, 64, 67, 0.3), 0px 1px 3px 1px rgba(60, 64, 67, 0.15);\n",
              "      fill: #174EA6;\n",
              "    }\n",
              "\n",
              "    [theme=dark] .colab-df-convert {\n",
              "      background-color: #3B4455;\n",
              "      fill: #D2E3FC;\n",
              "    }\n",
              "\n",
              "    [theme=dark] .colab-df-convert:hover {\n",
              "      background-color: #434B5C;\n",
              "      box-shadow: 0px 1px 3px 1px rgba(0, 0, 0, 0.15);\n",
              "      filter: drop-shadow(0px 1px 2px rgba(0, 0, 0, 0.3));\n",
              "      fill: #FFFFFF;\n",
              "    }\n",
              "  </style>\n",
              "\n",
              "      <script>\n",
              "        const buttonEl =\n",
              "          document.querySelector('#df-1b626ad5-4085-425f-9978-6aea1d687c01 button.colab-df-convert');\n",
              "        buttonEl.style.display =\n",
              "          google.colab.kernel.accessAllowed ? 'block' : 'none';\n",
              "\n",
              "        async function convertToInteractive(key) {\n",
              "          const element = document.querySelector('#df-1b626ad5-4085-425f-9978-6aea1d687c01');\n",
              "          const dataTable =\n",
              "            await google.colab.kernel.invokeFunction('convertToInteractive',\n",
              "                                                     [key], {});\n",
              "          if (!dataTable) return;\n",
              "\n",
              "          const docLinkHtml = 'Like what you see? Visit the ' +\n",
              "            '<a target=\"_blank\" href=https://colab.research.google.com/notebooks/data_table.ipynb>data table notebook</a>'\n",
              "            + ' to learn more about interactive tables.';\n",
              "          element.innerHTML = '';\n",
              "          dataTable['output_type'] = 'display_data';\n",
              "          await google.colab.output.renderOutput(dataTable, element);\n",
              "          const docLink = document.createElement('div');\n",
              "          docLink.innerHTML = docLinkHtml;\n",
              "          element.appendChild(docLink);\n",
              "        }\n",
              "      </script>\n",
              "    </div>\n",
              "  </div>\n",
              "  "
            ],
            "text/plain": [
              "           id diagnosis  ...  fractal_dimension_worst  Unnamed: 32\n",
              "0      842302         M  ...                  0.11890          NaN\n",
              "1      842517         M  ...                  0.08902          NaN\n",
              "2    84300903         M  ...                  0.08758          NaN\n",
              "3    84348301         M  ...                  0.17300          NaN\n",
              "4    84358402         M  ...                  0.07678          NaN\n",
              "..        ...       ...  ...                      ...          ...\n",
              "564    926424         M  ...                  0.07115          NaN\n",
              "565    926682         M  ...                  0.06637          NaN\n",
              "566    926954         M  ...                  0.07820          NaN\n",
              "567    927241         M  ...                  0.12400          NaN\n",
              "568     92751         B  ...                  0.07039          NaN\n",
              "\n",
              "[569 rows x 33 columns]"
            ]
          },
          "metadata": {},
          "execution_count": 46
        }
      ]
    },
    {
      "cell_type": "markdown",
      "source": [
        "# 2.) Convert the String Labels into easily-interpretable Numerics"
      ],
      "metadata": {
        "id": "MjtAg94u0KQq"
      }
    },
    {
      "cell_type": "code",
      "source": [
        "# Note :- There are many existing Encoders for converting String to Numeric Labels, but for convenience, we used Pandas.\n",
        "\n",
        "condition_M = data.diagnosis == \"M\"\n",
        "condition_B = data.diagnosis == \"B\"\n",
        "\n",
        "data.loc[condition_M,\"diagnosis\"]=0\n",
        "data.loc[condition_B,\"diagnosis\"]=1\n",
        "\n",
        "data"
      ],
      "metadata": {
        "colab": {
          "base_uri": "https://localhost:8080/",
          "height": 505
        },
        "id": "vs5EUPrCx6yb",
        "outputId": "41f1f89e-11e9-4cb2-ab14-e83952af4ab3"
      },
      "execution_count": 47,
      "outputs": [
        {
          "output_type": "execute_result",
          "data": {
            "text/html": [
              "\n",
              "  <div id=\"df-4fc33457-5f52-4b24-91b0-6bc3247774a7\">\n",
              "    <div class=\"colab-df-container\">\n",
              "      <div>\n",
              "<style scoped>\n",
              "    .dataframe tbody tr th:only-of-type {\n",
              "        vertical-align: middle;\n",
              "    }\n",
              "\n",
              "    .dataframe tbody tr th {\n",
              "        vertical-align: top;\n",
              "    }\n",
              "\n",
              "    .dataframe thead th {\n",
              "        text-align: right;\n",
              "    }\n",
              "</style>\n",
              "<table border=\"1\" class=\"dataframe\">\n",
              "  <thead>\n",
              "    <tr style=\"text-align: right;\">\n",
              "      <th></th>\n",
              "      <th>id</th>\n",
              "      <th>diagnosis</th>\n",
              "      <th>radius_mean</th>\n",
              "      <th>texture_mean</th>\n",
              "      <th>perimeter_mean</th>\n",
              "      <th>area_mean</th>\n",
              "      <th>smoothness_mean</th>\n",
              "      <th>compactness_mean</th>\n",
              "      <th>concavity_mean</th>\n",
              "      <th>concave points_mean</th>\n",
              "      <th>symmetry_mean</th>\n",
              "      <th>fractal_dimension_mean</th>\n",
              "      <th>radius_se</th>\n",
              "      <th>texture_se</th>\n",
              "      <th>perimeter_se</th>\n",
              "      <th>area_se</th>\n",
              "      <th>smoothness_se</th>\n",
              "      <th>compactness_se</th>\n",
              "      <th>concavity_se</th>\n",
              "      <th>concave points_se</th>\n",
              "      <th>symmetry_se</th>\n",
              "      <th>fractal_dimension_se</th>\n",
              "      <th>radius_worst</th>\n",
              "      <th>texture_worst</th>\n",
              "      <th>perimeter_worst</th>\n",
              "      <th>area_worst</th>\n",
              "      <th>smoothness_worst</th>\n",
              "      <th>compactness_worst</th>\n",
              "      <th>concavity_worst</th>\n",
              "      <th>concave points_worst</th>\n",
              "      <th>symmetry_worst</th>\n",
              "      <th>fractal_dimension_worst</th>\n",
              "      <th>Unnamed: 32</th>\n",
              "    </tr>\n",
              "  </thead>\n",
              "  <tbody>\n",
              "    <tr>\n",
              "      <th>0</th>\n",
              "      <td>842302</td>\n",
              "      <td>0</td>\n",
              "      <td>17.99</td>\n",
              "      <td>10.38</td>\n",
              "      <td>122.80</td>\n",
              "      <td>1001.0</td>\n",
              "      <td>0.11840</td>\n",
              "      <td>0.27760</td>\n",
              "      <td>0.30010</td>\n",
              "      <td>0.14710</td>\n",
              "      <td>0.2419</td>\n",
              "      <td>0.07871</td>\n",
              "      <td>1.0950</td>\n",
              "      <td>0.9053</td>\n",
              "      <td>8.589</td>\n",
              "      <td>153.40</td>\n",
              "      <td>0.006399</td>\n",
              "      <td>0.04904</td>\n",
              "      <td>0.05373</td>\n",
              "      <td>0.01587</td>\n",
              "      <td>0.03003</td>\n",
              "      <td>0.006193</td>\n",
              "      <td>25.380</td>\n",
              "      <td>17.33</td>\n",
              "      <td>184.60</td>\n",
              "      <td>2019.0</td>\n",
              "      <td>0.16220</td>\n",
              "      <td>0.66560</td>\n",
              "      <td>0.7119</td>\n",
              "      <td>0.2654</td>\n",
              "      <td>0.4601</td>\n",
              "      <td>0.11890</td>\n",
              "      <td>NaN</td>\n",
              "    </tr>\n",
              "    <tr>\n",
              "      <th>1</th>\n",
              "      <td>842517</td>\n",
              "      <td>0</td>\n",
              "      <td>20.57</td>\n",
              "      <td>17.77</td>\n",
              "      <td>132.90</td>\n",
              "      <td>1326.0</td>\n",
              "      <td>0.08474</td>\n",
              "      <td>0.07864</td>\n",
              "      <td>0.08690</td>\n",
              "      <td>0.07017</td>\n",
              "      <td>0.1812</td>\n",
              "      <td>0.05667</td>\n",
              "      <td>0.5435</td>\n",
              "      <td>0.7339</td>\n",
              "      <td>3.398</td>\n",
              "      <td>74.08</td>\n",
              "      <td>0.005225</td>\n",
              "      <td>0.01308</td>\n",
              "      <td>0.01860</td>\n",
              "      <td>0.01340</td>\n",
              "      <td>0.01389</td>\n",
              "      <td>0.003532</td>\n",
              "      <td>24.990</td>\n",
              "      <td>23.41</td>\n",
              "      <td>158.80</td>\n",
              "      <td>1956.0</td>\n",
              "      <td>0.12380</td>\n",
              "      <td>0.18660</td>\n",
              "      <td>0.2416</td>\n",
              "      <td>0.1860</td>\n",
              "      <td>0.2750</td>\n",
              "      <td>0.08902</td>\n",
              "      <td>NaN</td>\n",
              "    </tr>\n",
              "    <tr>\n",
              "      <th>2</th>\n",
              "      <td>84300903</td>\n",
              "      <td>0</td>\n",
              "      <td>19.69</td>\n",
              "      <td>21.25</td>\n",
              "      <td>130.00</td>\n",
              "      <td>1203.0</td>\n",
              "      <td>0.10960</td>\n",
              "      <td>0.15990</td>\n",
              "      <td>0.19740</td>\n",
              "      <td>0.12790</td>\n",
              "      <td>0.2069</td>\n",
              "      <td>0.05999</td>\n",
              "      <td>0.7456</td>\n",
              "      <td>0.7869</td>\n",
              "      <td>4.585</td>\n",
              "      <td>94.03</td>\n",
              "      <td>0.006150</td>\n",
              "      <td>0.04006</td>\n",
              "      <td>0.03832</td>\n",
              "      <td>0.02058</td>\n",
              "      <td>0.02250</td>\n",
              "      <td>0.004571</td>\n",
              "      <td>23.570</td>\n",
              "      <td>25.53</td>\n",
              "      <td>152.50</td>\n",
              "      <td>1709.0</td>\n",
              "      <td>0.14440</td>\n",
              "      <td>0.42450</td>\n",
              "      <td>0.4504</td>\n",
              "      <td>0.2430</td>\n",
              "      <td>0.3613</td>\n",
              "      <td>0.08758</td>\n",
              "      <td>NaN</td>\n",
              "    </tr>\n",
              "    <tr>\n",
              "      <th>3</th>\n",
              "      <td>84348301</td>\n",
              "      <td>0</td>\n",
              "      <td>11.42</td>\n",
              "      <td>20.38</td>\n",
              "      <td>77.58</td>\n",
              "      <td>386.1</td>\n",
              "      <td>0.14250</td>\n",
              "      <td>0.28390</td>\n",
              "      <td>0.24140</td>\n",
              "      <td>0.10520</td>\n",
              "      <td>0.2597</td>\n",
              "      <td>0.09744</td>\n",
              "      <td>0.4956</td>\n",
              "      <td>1.1560</td>\n",
              "      <td>3.445</td>\n",
              "      <td>27.23</td>\n",
              "      <td>0.009110</td>\n",
              "      <td>0.07458</td>\n",
              "      <td>0.05661</td>\n",
              "      <td>0.01867</td>\n",
              "      <td>0.05963</td>\n",
              "      <td>0.009208</td>\n",
              "      <td>14.910</td>\n",
              "      <td>26.50</td>\n",
              "      <td>98.87</td>\n",
              "      <td>567.7</td>\n",
              "      <td>0.20980</td>\n",
              "      <td>0.86630</td>\n",
              "      <td>0.6869</td>\n",
              "      <td>0.2575</td>\n",
              "      <td>0.6638</td>\n",
              "      <td>0.17300</td>\n",
              "      <td>NaN</td>\n",
              "    </tr>\n",
              "    <tr>\n",
              "      <th>4</th>\n",
              "      <td>84358402</td>\n",
              "      <td>0</td>\n",
              "      <td>20.29</td>\n",
              "      <td>14.34</td>\n",
              "      <td>135.10</td>\n",
              "      <td>1297.0</td>\n",
              "      <td>0.10030</td>\n",
              "      <td>0.13280</td>\n",
              "      <td>0.19800</td>\n",
              "      <td>0.10430</td>\n",
              "      <td>0.1809</td>\n",
              "      <td>0.05883</td>\n",
              "      <td>0.7572</td>\n",
              "      <td>0.7813</td>\n",
              "      <td>5.438</td>\n",
              "      <td>94.44</td>\n",
              "      <td>0.011490</td>\n",
              "      <td>0.02461</td>\n",
              "      <td>0.05688</td>\n",
              "      <td>0.01885</td>\n",
              "      <td>0.01756</td>\n",
              "      <td>0.005115</td>\n",
              "      <td>22.540</td>\n",
              "      <td>16.67</td>\n",
              "      <td>152.20</td>\n",
              "      <td>1575.0</td>\n",
              "      <td>0.13740</td>\n",
              "      <td>0.20500</td>\n",
              "      <td>0.4000</td>\n",
              "      <td>0.1625</td>\n",
              "      <td>0.2364</td>\n",
              "      <td>0.07678</td>\n",
              "      <td>NaN</td>\n",
              "    </tr>\n",
              "    <tr>\n",
              "      <th>...</th>\n",
              "      <td>...</td>\n",
              "      <td>...</td>\n",
              "      <td>...</td>\n",
              "      <td>...</td>\n",
              "      <td>...</td>\n",
              "      <td>...</td>\n",
              "      <td>...</td>\n",
              "      <td>...</td>\n",
              "      <td>...</td>\n",
              "      <td>...</td>\n",
              "      <td>...</td>\n",
              "      <td>...</td>\n",
              "      <td>...</td>\n",
              "      <td>...</td>\n",
              "      <td>...</td>\n",
              "      <td>...</td>\n",
              "      <td>...</td>\n",
              "      <td>...</td>\n",
              "      <td>...</td>\n",
              "      <td>...</td>\n",
              "      <td>...</td>\n",
              "      <td>...</td>\n",
              "      <td>...</td>\n",
              "      <td>...</td>\n",
              "      <td>...</td>\n",
              "      <td>...</td>\n",
              "      <td>...</td>\n",
              "      <td>...</td>\n",
              "      <td>...</td>\n",
              "      <td>...</td>\n",
              "      <td>...</td>\n",
              "      <td>...</td>\n",
              "      <td>...</td>\n",
              "    </tr>\n",
              "    <tr>\n",
              "      <th>564</th>\n",
              "      <td>926424</td>\n",
              "      <td>0</td>\n",
              "      <td>21.56</td>\n",
              "      <td>22.39</td>\n",
              "      <td>142.00</td>\n",
              "      <td>1479.0</td>\n",
              "      <td>0.11100</td>\n",
              "      <td>0.11590</td>\n",
              "      <td>0.24390</td>\n",
              "      <td>0.13890</td>\n",
              "      <td>0.1726</td>\n",
              "      <td>0.05623</td>\n",
              "      <td>1.1760</td>\n",
              "      <td>1.2560</td>\n",
              "      <td>7.673</td>\n",
              "      <td>158.70</td>\n",
              "      <td>0.010300</td>\n",
              "      <td>0.02891</td>\n",
              "      <td>0.05198</td>\n",
              "      <td>0.02454</td>\n",
              "      <td>0.01114</td>\n",
              "      <td>0.004239</td>\n",
              "      <td>25.450</td>\n",
              "      <td>26.40</td>\n",
              "      <td>166.10</td>\n",
              "      <td>2027.0</td>\n",
              "      <td>0.14100</td>\n",
              "      <td>0.21130</td>\n",
              "      <td>0.4107</td>\n",
              "      <td>0.2216</td>\n",
              "      <td>0.2060</td>\n",
              "      <td>0.07115</td>\n",
              "      <td>NaN</td>\n",
              "    </tr>\n",
              "    <tr>\n",
              "      <th>565</th>\n",
              "      <td>926682</td>\n",
              "      <td>0</td>\n",
              "      <td>20.13</td>\n",
              "      <td>28.25</td>\n",
              "      <td>131.20</td>\n",
              "      <td>1261.0</td>\n",
              "      <td>0.09780</td>\n",
              "      <td>0.10340</td>\n",
              "      <td>0.14400</td>\n",
              "      <td>0.09791</td>\n",
              "      <td>0.1752</td>\n",
              "      <td>0.05533</td>\n",
              "      <td>0.7655</td>\n",
              "      <td>2.4630</td>\n",
              "      <td>5.203</td>\n",
              "      <td>99.04</td>\n",
              "      <td>0.005769</td>\n",
              "      <td>0.02423</td>\n",
              "      <td>0.03950</td>\n",
              "      <td>0.01678</td>\n",
              "      <td>0.01898</td>\n",
              "      <td>0.002498</td>\n",
              "      <td>23.690</td>\n",
              "      <td>38.25</td>\n",
              "      <td>155.00</td>\n",
              "      <td>1731.0</td>\n",
              "      <td>0.11660</td>\n",
              "      <td>0.19220</td>\n",
              "      <td>0.3215</td>\n",
              "      <td>0.1628</td>\n",
              "      <td>0.2572</td>\n",
              "      <td>0.06637</td>\n",
              "      <td>NaN</td>\n",
              "    </tr>\n",
              "    <tr>\n",
              "      <th>566</th>\n",
              "      <td>926954</td>\n",
              "      <td>0</td>\n",
              "      <td>16.60</td>\n",
              "      <td>28.08</td>\n",
              "      <td>108.30</td>\n",
              "      <td>858.1</td>\n",
              "      <td>0.08455</td>\n",
              "      <td>0.10230</td>\n",
              "      <td>0.09251</td>\n",
              "      <td>0.05302</td>\n",
              "      <td>0.1590</td>\n",
              "      <td>0.05648</td>\n",
              "      <td>0.4564</td>\n",
              "      <td>1.0750</td>\n",
              "      <td>3.425</td>\n",
              "      <td>48.55</td>\n",
              "      <td>0.005903</td>\n",
              "      <td>0.03731</td>\n",
              "      <td>0.04730</td>\n",
              "      <td>0.01557</td>\n",
              "      <td>0.01318</td>\n",
              "      <td>0.003892</td>\n",
              "      <td>18.980</td>\n",
              "      <td>34.12</td>\n",
              "      <td>126.70</td>\n",
              "      <td>1124.0</td>\n",
              "      <td>0.11390</td>\n",
              "      <td>0.30940</td>\n",
              "      <td>0.3403</td>\n",
              "      <td>0.1418</td>\n",
              "      <td>0.2218</td>\n",
              "      <td>0.07820</td>\n",
              "      <td>NaN</td>\n",
              "    </tr>\n",
              "    <tr>\n",
              "      <th>567</th>\n",
              "      <td>927241</td>\n",
              "      <td>0</td>\n",
              "      <td>20.60</td>\n",
              "      <td>29.33</td>\n",
              "      <td>140.10</td>\n",
              "      <td>1265.0</td>\n",
              "      <td>0.11780</td>\n",
              "      <td>0.27700</td>\n",
              "      <td>0.35140</td>\n",
              "      <td>0.15200</td>\n",
              "      <td>0.2397</td>\n",
              "      <td>0.07016</td>\n",
              "      <td>0.7260</td>\n",
              "      <td>1.5950</td>\n",
              "      <td>5.772</td>\n",
              "      <td>86.22</td>\n",
              "      <td>0.006522</td>\n",
              "      <td>0.06158</td>\n",
              "      <td>0.07117</td>\n",
              "      <td>0.01664</td>\n",
              "      <td>0.02324</td>\n",
              "      <td>0.006185</td>\n",
              "      <td>25.740</td>\n",
              "      <td>39.42</td>\n",
              "      <td>184.60</td>\n",
              "      <td>1821.0</td>\n",
              "      <td>0.16500</td>\n",
              "      <td>0.86810</td>\n",
              "      <td>0.9387</td>\n",
              "      <td>0.2650</td>\n",
              "      <td>0.4087</td>\n",
              "      <td>0.12400</td>\n",
              "      <td>NaN</td>\n",
              "    </tr>\n",
              "    <tr>\n",
              "      <th>568</th>\n",
              "      <td>92751</td>\n",
              "      <td>1</td>\n",
              "      <td>7.76</td>\n",
              "      <td>24.54</td>\n",
              "      <td>47.92</td>\n",
              "      <td>181.0</td>\n",
              "      <td>0.05263</td>\n",
              "      <td>0.04362</td>\n",
              "      <td>0.00000</td>\n",
              "      <td>0.00000</td>\n",
              "      <td>0.1587</td>\n",
              "      <td>0.05884</td>\n",
              "      <td>0.3857</td>\n",
              "      <td>1.4280</td>\n",
              "      <td>2.548</td>\n",
              "      <td>19.15</td>\n",
              "      <td>0.007189</td>\n",
              "      <td>0.00466</td>\n",
              "      <td>0.00000</td>\n",
              "      <td>0.00000</td>\n",
              "      <td>0.02676</td>\n",
              "      <td>0.002783</td>\n",
              "      <td>9.456</td>\n",
              "      <td>30.37</td>\n",
              "      <td>59.16</td>\n",
              "      <td>268.6</td>\n",
              "      <td>0.08996</td>\n",
              "      <td>0.06444</td>\n",
              "      <td>0.0000</td>\n",
              "      <td>0.0000</td>\n",
              "      <td>0.2871</td>\n",
              "      <td>0.07039</td>\n",
              "      <td>NaN</td>\n",
              "    </tr>\n",
              "  </tbody>\n",
              "</table>\n",
              "<p>569 rows × 33 columns</p>\n",
              "</div>\n",
              "      <button class=\"colab-df-convert\" onclick=\"convertToInteractive('df-4fc33457-5f52-4b24-91b0-6bc3247774a7')\"\n",
              "              title=\"Convert this dataframe to an interactive table.\"\n",
              "              style=\"display:none;\">\n",
              "        \n",
              "  <svg xmlns=\"http://www.w3.org/2000/svg\" height=\"24px\"viewBox=\"0 0 24 24\"\n",
              "       width=\"24px\">\n",
              "    <path d=\"M0 0h24v24H0V0z\" fill=\"none\"/>\n",
              "    <path d=\"M18.56 5.44l.94 2.06.94-2.06 2.06-.94-2.06-.94-.94-2.06-.94 2.06-2.06.94zm-11 1L8.5 8.5l.94-2.06 2.06-.94-2.06-.94L8.5 2.5l-.94 2.06-2.06.94zm10 10l.94 2.06.94-2.06 2.06-.94-2.06-.94-.94-2.06-.94 2.06-2.06.94z\"/><path d=\"M17.41 7.96l-1.37-1.37c-.4-.4-.92-.59-1.43-.59-.52 0-1.04.2-1.43.59L10.3 9.45l-7.72 7.72c-.78.78-.78 2.05 0 2.83L4 21.41c.39.39.9.59 1.41.59.51 0 1.02-.2 1.41-.59l7.78-7.78 2.81-2.81c.8-.78.8-2.07 0-2.86zM5.41 20L4 18.59l7.72-7.72 1.47 1.35L5.41 20z\"/>\n",
              "  </svg>\n",
              "      </button>\n",
              "      \n",
              "  <style>\n",
              "    .colab-df-container {\n",
              "      display:flex;\n",
              "      flex-wrap:wrap;\n",
              "      gap: 12px;\n",
              "    }\n",
              "\n",
              "    .colab-df-convert {\n",
              "      background-color: #E8F0FE;\n",
              "      border: none;\n",
              "      border-radius: 50%;\n",
              "      cursor: pointer;\n",
              "      display: none;\n",
              "      fill: #1967D2;\n",
              "      height: 32px;\n",
              "      padding: 0 0 0 0;\n",
              "      width: 32px;\n",
              "    }\n",
              "\n",
              "    .colab-df-convert:hover {\n",
              "      background-color: #E2EBFA;\n",
              "      box-shadow: 0px 1px 2px rgba(60, 64, 67, 0.3), 0px 1px 3px 1px rgba(60, 64, 67, 0.15);\n",
              "      fill: #174EA6;\n",
              "    }\n",
              "\n",
              "    [theme=dark] .colab-df-convert {\n",
              "      background-color: #3B4455;\n",
              "      fill: #D2E3FC;\n",
              "    }\n",
              "\n",
              "    [theme=dark] .colab-df-convert:hover {\n",
              "      background-color: #434B5C;\n",
              "      box-shadow: 0px 1px 3px 1px rgba(0, 0, 0, 0.15);\n",
              "      filter: drop-shadow(0px 1px 2px rgba(0, 0, 0, 0.3));\n",
              "      fill: #FFFFFF;\n",
              "    }\n",
              "  </style>\n",
              "\n",
              "      <script>\n",
              "        const buttonEl =\n",
              "          document.querySelector('#df-4fc33457-5f52-4b24-91b0-6bc3247774a7 button.colab-df-convert');\n",
              "        buttonEl.style.display =\n",
              "          google.colab.kernel.accessAllowed ? 'block' : 'none';\n",
              "\n",
              "        async function convertToInteractive(key) {\n",
              "          const element = document.querySelector('#df-4fc33457-5f52-4b24-91b0-6bc3247774a7');\n",
              "          const dataTable =\n",
              "            await google.colab.kernel.invokeFunction('convertToInteractive',\n",
              "                                                     [key], {});\n",
              "          if (!dataTable) return;\n",
              "\n",
              "          const docLinkHtml = 'Like what you see? Visit the ' +\n",
              "            '<a target=\"_blank\" href=https://colab.research.google.com/notebooks/data_table.ipynb>data table notebook</a>'\n",
              "            + ' to learn more about interactive tables.';\n",
              "          element.innerHTML = '';\n",
              "          dataTable['output_type'] = 'display_data';\n",
              "          await google.colab.output.renderOutput(dataTable, element);\n",
              "          const docLink = document.createElement('div');\n",
              "          docLink.innerHTML = docLinkHtml;\n",
              "          element.appendChild(docLink);\n",
              "        }\n",
              "      </script>\n",
              "    </div>\n",
              "  </div>\n",
              "  "
            ],
            "text/plain": [
              "           id diagnosis  ...  fractal_dimension_worst  Unnamed: 32\n",
              "0      842302         0  ...                  0.11890          NaN\n",
              "1      842517         0  ...                  0.08902          NaN\n",
              "2    84300903         0  ...                  0.08758          NaN\n",
              "3    84348301         0  ...                  0.17300          NaN\n",
              "4    84358402         0  ...                  0.07678          NaN\n",
              "..        ...       ...  ...                      ...          ...\n",
              "564    926424         0  ...                  0.07115          NaN\n",
              "565    926682         0  ...                  0.06637          NaN\n",
              "566    926954         0  ...                  0.07820          NaN\n",
              "567    927241         0  ...                  0.12400          NaN\n",
              "568     92751         1  ...                  0.07039          NaN\n",
              "\n",
              "[569 rows x 33 columns]"
            ]
          },
          "metadata": {},
          "execution_count": 47
        }
      ]
    },
    {
      "cell_type": "markdown",
      "source": [
        "# 3.) Converting Dataframe into Numpy Arrays (Features and Labels)"
      ],
      "metadata": {
        "id": "SOvmQOBY023p"
      }
    },
    {
      "cell_type": "code",
      "source": [
        "Y = data.diagnosis.to_numpy().astype('int')                                     # Labels\n",
        "\n",
        "X_data = data.drop(columns=[\"id\",\"diagnosis\",\"Unnamed: 32\"])\n",
        "X = X_data.to_numpy()                                                           # Input Features"
      ],
      "metadata": {
        "id": "kxw_NUvW011A"
      },
      "execution_count": 48,
      "outputs": []
    },
    {
      "cell_type": "markdown",
      "source": [
        "# 4.) Splitting the Dataset into Train and Test Portions"
      ],
      "metadata": {
        "id": "6f8ih1Bl0g63"
      }
    },
    {
      "cell_type": "code",
      "source": [
        "user_prompt = 0.3\n",
        "user_enable = False\n",
        "\n",
        "x_train,x_test,y_train,y_test = tts(X,Y,test_size=user_prompt,shuffle=user_enable)"
      ],
      "metadata": {
        "id": "ag34WnMA0gln"
      },
      "execution_count": 49,
      "outputs": []
    },
    {
      "cell_type": "markdown",
      "source": [
        "# 5.) Model Training and Predicting"
      ],
      "metadata": {
        "id": "UMRmA9jT0TCm"
      }
    },
    {
      "cell_type": "code",
      "source": [
        "# Note :- Don't worry about the code snippet here, it is just to produce the predictions for the test data portion of each classifier\n",
        "\n",
        "logistic_model = LR()\n",
        "logistic_model.fit(x_train,y_train)\n",
        "logistic_pred = logistic_model.predict(x_test)\n",
        "\n",
        "decision_model = DTC()\n",
        "decision_model.fit(x_train,y_train)\n",
        "decision_pred = decision_model.predict(x_test)"
      ],
      "metadata": {
        "id": "0_rK_IBFzfs4"
      },
      "execution_count": 50,
      "outputs": []
    },
    {
      "cell_type": "markdown",
      "source": [
        "# 6.) Evaluation Metrics (Inbulit v/s Scaratch)"
      ],
      "metadata": {
        "id": "8FsxHygi7Zoa"
      }
    },
    {
      "cell_type": "markdown",
      "source": [
        "## Confusion Matrix"
      ],
      "metadata": {
        "id": "uOLM56wX7zn1"
      }
    },
    {
      "cell_type": "code",
      "source": [
        "inbuilt_matrix_logistic = cm(y_test,logistic_pred)\n",
        "inbuilt_matrix_decision = cm(y_test,decision_pred)\n",
        "\n",
        "print(\"Confusion Matrix for Logistic Regression-based Predictions =>\")\n",
        "print(inbuilt_matrix_logistic)\n",
        "print(\"Confusion Matrix for Decision Tree-based Predictions =>\")\n",
        "print(inbuilt_matrix_decision)\n",
        "\n",
        "import numpy as np\n",
        "\n",
        "def confusion_matrix(original_set, predicted_set):\n",
        "\n",
        "    conf_mat = [[0,0],[0,0]]\n",
        "    n = len(original_set)\n",
        "\n",
        "    for i in range(n):\n",
        "        if original_set[i]:\n",
        "            if original_set[i] == predicted_set[i]:\n",
        "                conf_mat[1][1] += 1\n",
        "            else:\n",
        "                conf_mat[1][0] += 1\n",
        "        else:\n",
        "            if original_set[i] == predicted_set[i]:\n",
        "                conf_mat[0][0] += 1\n",
        "            else:\n",
        "                conf_mat[0][1] += 1\n",
        "\n",
        "    return np.array(conf_mat)\n",
        "\n",
        "print(\"Confusion Matrix for Logistic Regression-based Predictions from implemented function :\")\n",
        "print(confusion_matrix(y_test,logistic_pred))\n",
        "print(\"Confusion Matrix for Decision Tree-based Predictions from implemented function :\")\n",
        "print(confusion_matrix(y_test,decision_pred))"
      ],
      "metadata": {
        "id": "YP_oItop7lsC",
        "colab": {
          "base_uri": "https://localhost:8080/"
        },
        "outputId": "c44d94f1-6ce7-44aa-a6bb-a2761b7c760c"
      },
      "execution_count": 61,
      "outputs": [
        {
          "output_type": "stream",
          "name": "stdout",
          "text": [
            "Confusion Matrix for Logistic Regression-based Predictions =>\n",
            "[[ 38   1]\n",
            " [ 10 122]]\n",
            "Confusion Matrix for Decision Tree-based Predictions =>\n",
            "[[ 36   3]\n",
            " [ 21 111]]\n",
            "Confusion Matrix for Logistic Regression-based Predictions from implemented function :\n",
            "[[ 38   1]\n",
            " [ 10 122]]\n",
            "Confusion Matrix for Decision Tree-based Predictions from implemented function :\n",
            "[[ 36   3]\n",
            " [ 21 111]]\n"
          ]
        }
      ]
    },
    {
      "cell_type": "markdown",
      "source": [
        "## Average Accuracy"
      ],
      "metadata": {
        "id": "AAFfrbJx7nGF"
      }
    },
    {
      "cell_type": "code",
      "source": [
        "inbuilt_acc_logistic = acc(y_test,logistic_pred)\n",
        "inbuilt_acc_decision = acc(y_test,decision_pred)\n",
        "\n",
        "print(\"Accuracy for Logistic Regression-based Predictions =>\",str(inbuilt_acc_logistic*100)+\"%\")\n",
        "print(\"Accuracy for Decision Tree-based Predictions =>\",str(inbuilt_acc_decision*100)+\"%\")\n",
        "\n",
        "def avg_accuracy(conf_mat,n):\n",
        "\n",
        "    return (conf_mat[0][0]+conf_mat[1][1])/n*100\n",
        "\n",
        "conf_mat_logistic=confusion_matrix(y_test,logistic_pred)\n",
        "conf_mat_decision=confusion_matrix(y_test,decision_pred)\n",
        "n=len(y_test)\n",
        "\n",
        "print()\n",
        "print(f\"Accuracy for Logistic Regression-based Predictions from implemented function : {avg_accuracy(conf_mat_logistic,n)} %\")\n",
        "print(f\"Accuracy for Decision Tree-based Predictions from implemented function : {avg_accuracy(conf_mat_decision,n)} %\")"
      ],
      "metadata": {
        "id": "UAii0HlB7Zux",
        "colab": {
          "base_uri": "https://localhost:8080/"
        },
        "outputId": "41602045-e8c9-4fcb-87dc-044b81de1fc2"
      },
      "execution_count": 63,
      "outputs": [
        {
          "output_type": "stream",
          "name": "stdout",
          "text": [
            "Accuracy for Logistic Regression-based Predictions => 93.56725146198829%\n",
            "Accuracy for Decision Tree-based Predictions => 85.96491228070175%\n",
            "\n",
            "Accuracy for Logistic Regression-based Predictions from implemented function : 93.56725146198829 %\n",
            "Accuracy for Decision Tree-based Predictions from implemented function : 85.96491228070175 %\n"
          ]
        }
      ]
    },
    {
      "cell_type": "markdown",
      "source": [
        "## Precision"
      ],
      "metadata": {
        "id": "tC-hpfYS7p_r"
      }
    },
    {
      "cell_type": "code",
      "source": [
        "inbuilt_ps_logistic = ps(y_test,logistic_pred)\n",
        "inbuilt_ps_decision = ps(y_test,decision_pred)\n",
        "\n",
        "print(\"Precision for Logistic Regression-based Predictions =>\",str(inbuilt_ps_logistic*100)+\"%\")\n",
        "print(\"Precision for Decision Tree-based Predictions =>\",str(inbuilt_ps_decision*100)+\"%\")\n",
        "\n",
        "def precision(conf_mat):\n",
        "    \n",
        "    return conf_mat[1][1]/(conf_mat[0][1]+conf_mat[1][1])*100\n",
        "\n",
        "print()\n",
        "print(f\"Precision for Logistic Regression-based Predictions from implemented function : {precision(conf_mat_logistic)} %\")\n",
        "print(f\"Precision for Decision Tree-based Predictions from implemented function : {precision(conf_mat_decision)} %\")"
      ],
      "metadata": {
        "id": "DQ2UAn5U7lWD",
        "colab": {
          "base_uri": "https://localhost:8080/"
        },
        "outputId": "0ff42fe9-39ec-41a2-c346-2e2242f14f01"
      },
      "execution_count": 65,
      "outputs": [
        {
          "output_type": "stream",
          "name": "stdout",
          "text": [
            "Precision for Logistic Regression-based Predictions => 99.1869918699187%\n",
            "Precision for Decision Tree-based Predictions => 97.36842105263158%\n",
            "\n",
            "Precision for Logistic Regression-based Predictions from implemented function : 99.1869918699187 %\n",
            "Precision for Decision Tree-based Predictions from implemented function : 97.36842105263158 %\n"
          ]
        }
      ]
    },
    {
      "cell_type": "markdown",
      "source": [
        "## Recall"
      ],
      "metadata": {
        "id": "VJjpzD1Y7ucm"
      }
    },
    {
      "cell_type": "code",
      "source": [
        "inbuilt_rs_logistic = rs(y_test,logistic_pred)\n",
        "inbuilt_rs_decision = rs(y_test,decision_pred)\n",
        "\n",
        "print(\"Recall for Logistic Regression-based Predictions =>\",str(inbuilt_rs_logistic*100)+\"%\")\n",
        "print(\"Recall for Decision Tree-based Predictions =>\",str(inbuilt_rs_decision*100)+\"%\")\n",
        "\n",
        "def recall(conf_mat):\n",
        "    \n",
        "    return conf_mat[1][1]/(conf_mat[1][1]+conf_mat[1][0])*100\n",
        "\n",
        "print()\n",
        "print(f\"Recall for Logistic Regression-based Predictions from implemented function : {recall(conf_mat_logistic)} %\")\n",
        "print(f\"Recall for Decision Tree-based Predictions from implemented function : {recall(conf_mat_decision)} %\")"
      ],
      "metadata": {
        "id": "C1WGJmPZ7lda",
        "colab": {
          "base_uri": "https://localhost:8080/"
        },
        "outputId": "2fa6415e-208e-455a-d205-e5db7ce81545"
      },
      "execution_count": 67,
      "outputs": [
        {
          "output_type": "stream",
          "name": "stdout",
          "text": [
            "Recall for Logistic Regression-based Predictions => 92.42424242424242%\n",
            "Recall for Decision Tree-based Predictions => 84.0909090909091%\n",
            "\n",
            "Recall for Logistic Regression-based Predictions from implemented function : 92.42424242424242 %\n",
            "Recall for Decision Tree-based Predictions from implemented function : 84.0909090909091 %\n"
          ]
        }
      ]
    },
    {
      "cell_type": "markdown",
      "source": [
        "## F-1 Score"
      ],
      "metadata": {
        "id": "b_CvAJ3f7wOQ"
      }
    },
    {
      "cell_type": "code",
      "source": [
        "inbuilt_f1s_logistic = f1s(y_test,logistic_pred)\n",
        "inbuilt_f1s_decision = f1s(y_test,decision_pred)\n",
        "\n",
        "print(\"F1-Score for Logistic Regression-based Predictions =>\",str(inbuilt_f1s_logistic*100)+\"%\")\n",
        "print(\"F1-Score for Decision Tree-based Predictions =>\",str(inbuilt_f1s_decision*100)+\"%\")\n",
        "\n",
        "def f1_score(conf_mat):\n",
        "    pre = precision(conf_mat)\n",
        "    rec = recall(conf_mat)\n",
        "    return 2*((pre*rec)/(pre+rec))\n",
        "\n",
        "print()\n",
        "print(f\"F1-Score for Logistic Regression-based Predictions from implemented function : {f1_score(conf_mat_logistic)} %\")\n",
        "print(f\"F1-Score for Decision Tree-based Predictions from implemented function : {f1_score(conf_mat_decision)} %\")"
      ],
      "metadata": {
        "id": "gwipguxJ7lk6",
        "colab": {
          "base_uri": "https://localhost:8080/"
        },
        "outputId": "d3f419cc-463c-46f9-d17a-1eea2e144615"
      },
      "execution_count": 69,
      "outputs": [
        {
          "output_type": "stream",
          "name": "stdout",
          "text": [
            "F1-Score for Logistic Regression-based Predictions => 95.68627450980391%\n",
            "F1-Score for Decision Tree-based Predictions => 90.2439024390244%\n",
            "\n",
            "F1-Score for Logistic Regression-based Predictions from implemented function : 95.68627450980392 %\n",
            "F1-Score for Decision Tree-based Predictions from implemented function : 90.24390243902438 %\n"
          ]
        }
      ]
    },
    {
      "cell_type": "markdown",
      "source": [
        "## Class-Wise Accuracy"
      ],
      "metadata": {
        "id": "QfGdvDD2HKdy"
      }
    },
    {
      "cell_type": "code",
      "source": [
        "def class_accuracy(conf_mat):\n",
        "    TPR = conf_mat[1][1]/(conf_mat[1][0]+conf_mat[1][1])*100\n",
        "    TNR = conf_mat[0][0]/(conf_mat[0][0]+conf_mat[0][1])*100\n",
        "    return (TPR+TNR)/2\n",
        "\n",
        "print(f\"Class-Wise Accuracy for Logistic Regression-based Predictions : {class_accuracy(conf_mat_logistic)} %\")\n",
        "print(f\"Class-Wise Accuracy for Decision Tree-based Predictions : {class_accuracy(conf_mat_decision)} %\")"
      ],
      "metadata": {
        "id": "NwPQCWGLHK2f",
        "colab": {
          "base_uri": "https://localhost:8080/"
        },
        "outputId": "7f610cdc-7246-45a5-fb4a-984fc3f0f082"
      },
      "execution_count": 74,
      "outputs": [
        {
          "output_type": "stream",
          "name": "stdout",
          "text": [
            "Class-Wise Accuracy for Logistic Regression-based Predictions : 94.93006993006992 %\n",
            "Class-Wise Accuracy for Decision Tree-based Predictions : 88.1993006993007 %\n"
          ]
        }
      ]
    },
    {
      "cell_type": "markdown",
      "source": [
        "## Sensitivity"
      ],
      "metadata": {
        "id": "jZbGtO468-gu"
      }
    },
    {
      "cell_type": "code",
      "source": [
        "def sensitivity(conf_mat):\n",
        "    \n",
        "    return conf_mat[1][1]/(conf_mat[1][0]+conf_mat[1][1])*100\n",
        "\n",
        "print(f\"Sensitivity for Logistic Regression-based Predictions : {sensitivity(conf_mat_logistic)} %\")\n",
        "print(f\"Sensitivity for Decision Tree-based Predictions : {sensitivity(conf_mat_decision)} %\")"
      ],
      "metadata": {
        "id": "-514Tgvj8-Uu",
        "colab": {
          "base_uri": "https://localhost:8080/"
        },
        "outputId": "381ccba7-205d-48fa-bf36-47d43b5bdb5c"
      },
      "execution_count": 71,
      "outputs": [
        {
          "output_type": "stream",
          "name": "stdout",
          "text": [
            "Sensitivity for Logistic Regression-based Predictions : 92.42424242424242 %\n",
            "Sensitivity for Decision Tree-based Predictions : 84.0909090909091 %\n"
          ]
        }
      ]
    },
    {
      "cell_type": "markdown",
      "source": [
        "## Specificity"
      ],
      "metadata": {
        "id": "eNJOxp8o8-wP"
      }
    },
    {
      "cell_type": "code",
      "source": [
        "def specificity(conf_mat):\n",
        "    \n",
        "    return conf_mat[0][0]/(conf_mat[0][0]+conf_mat[0][1])*100\n",
        "\n",
        "print(f\"specificity for Logistic Regression-based Predictions : {specificity(conf_mat_logistic)} %\")\n",
        "print(f\"specificity for Decision Tree-based Predictions : {specificity(conf_mat_decision)} %\")"
      ],
      "metadata": {
        "id": "oRmH6Ij07lx-",
        "colab": {
          "base_uri": "https://localhost:8080/"
        },
        "outputId": "70950316-3217-4836-bc40-c8b314eb2f02"
      },
      "execution_count": 72,
      "outputs": [
        {
          "output_type": "stream",
          "name": "stdout",
          "text": [
            "specificity for Logistic Regression-based Predictions : 97.43589743589743 %\n",
            "specificity for Decision Tree-based Predictions : 92.3076923076923 %\n"
          ]
        }
      ]
    }
  ]
}